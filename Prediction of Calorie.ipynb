{
 "cells": [
  {
   "cell_type": "code",
   "execution_count": 1,
   "id": "fbc6ff4a-ab6c-4f35-8b11-8563c7e33f9e",
   "metadata": {},
   "outputs": [],
   "source": [
    "import pandas as pd\n",
    "import tensorflow as tf\n",
    "from sklearn.model_selection import train_test_split\n",
    "from sklearn.preprocessing import StandardScaler\n",
    "from tensorflow.keras.layers import Dense, Dropout\n",
    "from keras.callbacks import EarlyStopping,ModelCheckpoint"
   ]
  },
  {
   "cell_type": "code",
   "execution_count": 2,
   "id": "70a33d50-f0cf-42c0-9707-3c2c02ff4964",
   "metadata": {},
   "outputs": [],
   "source": [
    "data_train=pd.read_csv('train_Calorie.csv')\n",
    "data_test=pd.read_csv('test_Calorie.csv')"
   ]
  },
  {
   "cell_type": "code",
   "execution_count": 3,
   "id": "2359a1f7-3e80-4bdb-8573-b742e19e087c",
   "metadata": {},
   "outputs": [],
   "source": [
    "X=data_train.drop('Calories',axis=1)\n",
    "X=X.drop('Sex',axis=1)\n",
    "X=X.drop('id',axis=1)\n",
    "y=data_train[['Calories']]"
   ]
  },
  {
   "cell_type": "code",
   "execution_count": 4,
   "id": "3c927833-145b-4c27-a15f-41b094544e71",
   "metadata": {},
   "outputs": [],
   "source": [
    "ss_x=StandardScaler()\n",
    "ss_y=StandardScaler()"
   ]
  },
  {
   "cell_type": "code",
   "execution_count": 7,
   "id": "39a4b6c4-1ded-421f-bd24-df43e5b03880",
   "metadata": {},
   "outputs": [],
   "source": [
    "X_s=ss_x.fit_transform(X)\n",
    "y_s=ss_y.fit_transform(y)"
   ]
  },
  {
   "cell_type": "code",
   "execution_count": 8,
   "id": "15939e7f-4c4b-40b7-8f95-cce8194dc206",
   "metadata": {},
   "outputs": [],
   "source": [
    "model=tf.keras.Sequential([\n",
    "    tf.keras.layers.Input(shape=(6,)),\n",
    "\n",
    "    Dense(128,activation='relu'),\n",
    "    Dense(64,activation='relu'),\n",
    "    Dense(32,activation='relu'),\n",
    "    Dropout(0.2),\n",
    "    Dense(1)\n",
    "])"
   ]
  },
  {
   "cell_type": "code",
   "execution_count": 11,
   "id": "a6d72d6e-60e9-466c-9567-97261ef2b21d",
   "metadata": {},
   "outputs": [],
   "source": [
    "from keras.optimizers import Adam"
   ]
  },
  {
   "cell_type": "code",
   "execution_count": 12,
   "id": "48b72549-edb8-4757-b481-8993f49f6893",
   "metadata": {},
   "outputs": [],
   "source": [
    "model.compile(loss='MSE',optimizer=Adam(0.001))"
   ]
  },
  {
   "cell_type": "code",
   "execution_count": 17,
   "id": "eedecfe0-e3ff-43d5-8c6f-14d51464302c",
   "metadata": {},
   "outputs": [
    {
     "name": "stdout",
     "output_type": "stream",
     "text": [
      "Epoch 1/5\n",
      "\u001b[1m9375/9375\u001b[0m \u001b[32m━━━━━━━━━━━━━━━━━━━━\u001b[0m\u001b[37m\u001b[0m \u001b[1m24s\u001b[0m 3ms/step - loss: 0.0229 - val_loss: 0.0048\n",
      "Epoch 2/5\n",
      "\u001b[1m9375/9375\u001b[0m \u001b[32m━━━━━━━━━━━━━━━━━━━━\u001b[0m\u001b[37m\u001b[0m \u001b[1m24s\u001b[0m 3ms/step - loss: 0.0228 - val_loss: 0.0067\n",
      "Epoch 3/5\n",
      "\u001b[1m9375/9375\u001b[0m \u001b[32m━━━━━━━━━━━━━━━━━━━━\u001b[0m\u001b[37m\u001b[0m \u001b[1m41s\u001b[0m 3ms/step - loss: 0.0226 - val_loss: 0.0048\n",
      "Epoch 4/5\n",
      "\u001b[1m9375/9375\u001b[0m \u001b[32m━━━━━━━━━━━━━━━━━━━━\u001b[0m\u001b[37m\u001b[0m \u001b[1m41s\u001b[0m 3ms/step - loss: 0.0229 - val_loss: 0.0048\n",
      "Epoch 5/5\n",
      "\u001b[1m9375/9375\u001b[0m \u001b[32m━━━━━━━━━━━━━━━━━━━━\u001b[0m\u001b[37m\u001b[0m \u001b[1m41s\u001b[0m 2ms/step - loss: 0.0226 - val_loss: 0.0046\n"
     ]
    },
    {
     "data": {
      "text/plain": [
       "<keras.src.callbacks.history.History at 0x2bf944dae20>"
      ]
     },
     "execution_count": 17,
     "metadata": {},
     "output_type": "execute_result"
    }
   ],
   "source": [
    "model.fit(X_s,y_s,epochs=5,batch_size=64,validation_split=0.2)"
   ]
  },
  {
   "cell_type": "code",
   "execution_count": 18,
   "id": "8761b24e-4b82-4d02-8beb-d65aef9b9fff",
   "metadata": {},
   "outputs": [],
   "source": [
    "data_test2=data_test.drop(['id','Sex'],axis=1)"
   ]
  },
  {
   "cell_type": "code",
   "execution_count": 19,
   "id": "63823c33-e539-4dfd-b610-3af3b33062c9",
   "metadata": {},
   "outputs": [
    {
     "data": {
      "text/html": [
       "<div>\n",
       "<style scoped>\n",
       "    .dataframe tbody tr th:only-of-type {\n",
       "        vertical-align: middle;\n",
       "    }\n",
       "\n",
       "    .dataframe tbody tr th {\n",
       "        vertical-align: top;\n",
       "    }\n",
       "\n",
       "    .dataframe thead th {\n",
       "        text-align: right;\n",
       "    }\n",
       "</style>\n",
       "<table border=\"1\" class=\"dataframe\">\n",
       "  <thead>\n",
       "    <tr style=\"text-align: right;\">\n",
       "      <th></th>\n",
       "      <th>Age</th>\n",
       "      <th>Height</th>\n",
       "      <th>Weight</th>\n",
       "      <th>Duration</th>\n",
       "      <th>Heart_Rate</th>\n",
       "      <th>Body_Temp</th>\n",
       "    </tr>\n",
       "  </thead>\n",
       "  <tbody>\n",
       "    <tr>\n",
       "      <th>0</th>\n",
       "      <td>45</td>\n",
       "      <td>177.0</td>\n",
       "      <td>81.0</td>\n",
       "      <td>7.0</td>\n",
       "      <td>87.0</td>\n",
       "      <td>39.8</td>\n",
       "    </tr>\n",
       "    <tr>\n",
       "      <th>1</th>\n",
       "      <td>26</td>\n",
       "      <td>200.0</td>\n",
       "      <td>97.0</td>\n",
       "      <td>20.0</td>\n",
       "      <td>101.0</td>\n",
       "      <td>40.5</td>\n",
       "    </tr>\n",
       "    <tr>\n",
       "      <th>2</th>\n",
       "      <td>29</td>\n",
       "      <td>188.0</td>\n",
       "      <td>85.0</td>\n",
       "      <td>16.0</td>\n",
       "      <td>102.0</td>\n",
       "      <td>40.4</td>\n",
       "    </tr>\n",
       "    <tr>\n",
       "      <th>3</th>\n",
       "      <td>39</td>\n",
       "      <td>172.0</td>\n",
       "      <td>73.0</td>\n",
       "      <td>20.0</td>\n",
       "      <td>107.0</td>\n",
       "      <td>40.6</td>\n",
       "    </tr>\n",
       "    <tr>\n",
       "      <th>4</th>\n",
       "      <td>30</td>\n",
       "      <td>173.0</td>\n",
       "      <td>67.0</td>\n",
       "      <td>16.0</td>\n",
       "      <td>94.0</td>\n",
       "      <td>40.5</td>\n",
       "    </tr>\n",
       "    <tr>\n",
       "      <th>...</th>\n",
       "      <td>...</td>\n",
       "      <td>...</td>\n",
       "      <td>...</td>\n",
       "      <td>...</td>\n",
       "      <td>...</td>\n",
       "      <td>...</td>\n",
       "    </tr>\n",
       "    <tr>\n",
       "      <th>249995</th>\n",
       "      <td>56</td>\n",
       "      <td>159.0</td>\n",
       "      <td>62.0</td>\n",
       "      <td>6.0</td>\n",
       "      <td>85.0</td>\n",
       "      <td>39.4</td>\n",
       "    </tr>\n",
       "    <tr>\n",
       "      <th>249996</th>\n",
       "      <td>32</td>\n",
       "      <td>202.0</td>\n",
       "      <td>101.0</td>\n",
       "      <td>3.0</td>\n",
       "      <td>84.0</td>\n",
       "      <td>38.4</td>\n",
       "    </tr>\n",
       "    <tr>\n",
       "      <th>249997</th>\n",
       "      <td>31</td>\n",
       "      <td>164.0</td>\n",
       "      <td>64.0</td>\n",
       "      <td>14.0</td>\n",
       "      <td>98.0</td>\n",
       "      <td>40.1</td>\n",
       "    </tr>\n",
       "    <tr>\n",
       "      <th>249998</th>\n",
       "      <td>62</td>\n",
       "      <td>158.0</td>\n",
       "      <td>61.0</td>\n",
       "      <td>25.0</td>\n",
       "      <td>106.0</td>\n",
       "      <td>40.7</td>\n",
       "    </tr>\n",
       "    <tr>\n",
       "      <th>249999</th>\n",
       "      <td>31</td>\n",
       "      <td>199.0</td>\n",
       "      <td>96.0</td>\n",
       "      <td>15.0</td>\n",
       "      <td>98.0</td>\n",
       "      <td>39.9</td>\n",
       "    </tr>\n",
       "  </tbody>\n",
       "</table>\n",
       "<p>250000 rows × 6 columns</p>\n",
       "</div>"
      ],
      "text/plain": [
       "        Age  Height  Weight  Duration  Heart_Rate  Body_Temp\n",
       "0        45   177.0    81.0       7.0        87.0       39.8\n",
       "1        26   200.0    97.0      20.0       101.0       40.5\n",
       "2        29   188.0    85.0      16.0       102.0       40.4\n",
       "3        39   172.0    73.0      20.0       107.0       40.6\n",
       "4        30   173.0    67.0      16.0        94.0       40.5\n",
       "...     ...     ...     ...       ...         ...        ...\n",
       "249995   56   159.0    62.0       6.0        85.0       39.4\n",
       "249996   32   202.0   101.0       3.0        84.0       38.4\n",
       "249997   31   164.0    64.0      14.0        98.0       40.1\n",
       "249998   62   158.0    61.0      25.0       106.0       40.7\n",
       "249999   31   199.0    96.0      15.0        98.0       39.9\n",
       "\n",
       "[250000 rows x 6 columns]"
      ]
     },
     "execution_count": 19,
     "metadata": {},
     "output_type": "execute_result"
    }
   ],
   "source": [
    "data_test2"
   ]
  },
  {
   "cell_type": "code",
   "execution_count": 20,
   "id": "dfde1ce7-6537-4322-b7b1-692e0a203ab4",
   "metadata": {},
   "outputs": [],
   "source": [
    "data_test2=ss_x.fit_transform(data_test2)"
   ]
  },
  {
   "cell_type": "code",
   "execution_count": 22,
   "id": "013a1dd7-e14f-49d9-b6d0-b0c117cfb375",
   "metadata": {},
   "outputs": [
    {
     "name": "stdout",
     "output_type": "stream",
     "text": [
      "\u001b[1m7813/7813\u001b[0m \u001b[32m━━━━━━━━━━━━━━━━━━━━\u001b[0m\u001b[37m\u001b[0m \u001b[1m8s\u001b[0m 975us/step\n"
     ]
    }
   ],
   "source": [
    "out_put=model.predict(data_test2)"
   ]
  },
  {
   "cell_type": "code",
   "execution_count": 23,
   "id": "14a53774-a6d4-447b-9dda-ad972717daec",
   "metadata": {},
   "outputs": [
    {
     "name": "stdout",
     "output_type": "stream",
     "text": [
      "[[-0.9653797 ]\n",
      " [ 0.35555992]\n",
      " [ 0.01113808]\n",
      " ...\n",
      " [-0.24778219]\n",
      " [ 1.2682229 ]\n",
      " [-0.1803064 ]]\n"
     ]
    }
   ],
   "source": [
    "print(out_put)"
   ]
  },
  {
   "cell_type": "code",
   "execution_count": 28,
   "id": "361ba3f1-60c5-4be7-9a48-baf975ea5d6d",
   "metadata": {},
   "outputs": [],
   "source": [
    "out=ss_y.inverse_transform(out_put)"
   ]
  },
  {
   "cell_type": "code",
   "execution_count": 38,
   "id": "047d5895-e174-4990-850f-bd1082fedf29",
   "metadata": {},
   "outputs": [
    {
     "name": "stdout",
     "output_type": "stream",
     "text": [
      "            id    Calories\n",
      "0       750000   28.047617\n",
      "1       750001  110.468048\n",
      "2       750002   88.977745\n",
      "3       750003  127.470131\n",
      "4       750004   75.154747\n",
      "...        ...         ...\n",
      "249995  999995   26.786898\n",
      "249996  999996   11.337103\n",
      "249997  999997   72.822334\n",
      "249998  999998  167.413940\n",
      "249999  999999   77.032509\n",
      "\n",
      "[250000 rows x 2 columns]\n"
     ]
    }
   ],
   "source": [
    "out=out.flatten()\n",
    "output = pd.DataFrame({'id': data_test.id, 'Calories':out})\n",
    "print(output)"
   ]
  },
  {
   "cell_type": "code",
   "execution_count": 40,
   "id": "ecb2698f-a9a3-48f9-abc9-fad51045171a",
   "metadata": {},
   "outputs": [
    {
     "name": "stdout",
     "output_type": "stream",
     "text": [
      "Your Calories was successfully saved!\n"
     ]
    }
   ],
   "source": [
    "output.to_csv('Calories_t.csv', index=False)\n",
    "print(\"Your Calories was successfully saved!\")"
   ]
  },
  {
   "cell_type": "code",
   "execution_count": null,
   "id": "c0032a8b-158c-4b08-83b3-3a556ccd2a54",
   "metadata": {},
   "outputs": [],
   "source": []
  }
 ],
 "metadata": {
  "kernelspec": {
   "display_name": "TensorFlow GPU",
   "language": "python",
   "name": "tf"
  },
  "language_info": {
   "codemirror_mode": {
    "name": "ipython",
    "version": 3
   },
   "file_extension": ".py",
   "mimetype": "text/x-python",
   "name": "python",
   "nbconvert_exporter": "python",
   "pygments_lexer": "ipython3",
   "version": "3.9.21"
  }
 },
 "nbformat": 4,
 "nbformat_minor": 5
}
